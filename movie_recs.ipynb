{
 "cells": [
  {
   "cell_type": "code",
   "execution_count": 1,
   "metadata": {},
   "outputs": [
    {
     "name": "stdout",
     "output_type": "stream",
     "text": [
      "       movieId                               title  \\\n",
      "0            1                    Toy Story (1995)   \n",
      "1            2                      Jumanji (1995)   \n",
      "2            3             Grumpier Old Men (1995)   \n",
      "3            4            Waiting to Exhale (1995)   \n",
      "4            5  Father of the Bride Part II (1995)   \n",
      "...        ...                                 ...   \n",
      "62418   209157                           We (2018)   \n",
      "62419   209159           Window of the Soul (2001)   \n",
      "62420   209163                    Bad Poems (2018)   \n",
      "62421   209169                 A Girl Thing (2001)   \n",
      "62422   209171      Women of Devil's Island (1962)   \n",
      "\n",
      "                                            genres  \n",
      "0      Adventure|Animation|Children|Comedy|Fantasy  \n",
      "1                       Adventure|Children|Fantasy  \n",
      "2                                   Comedy|Romance  \n",
      "3                             Comedy|Drama|Romance  \n",
      "4                                           Comedy  \n",
      "...                                            ...  \n",
      "62418                                        Drama  \n",
      "62419                                  Documentary  \n",
      "62420                                 Comedy|Drama  \n",
      "62421                           (no genres listed)  \n",
      "62422                       Action|Adventure|Drama  \n",
      "\n",
      "[62423 rows x 3 columns]\n",
      "       movieId                               title  \\\n",
      "0            1                    Toy Story (1995)   \n",
      "1            2                      Jumanji (1995)   \n",
      "2            3             Grumpier Old Men (1995)   \n",
      "3            4            Waiting to Exhale (1995)   \n",
      "4            5  Father of the Bride Part II (1995)   \n",
      "...        ...                                 ...   \n",
      "62418   209157                           We (2018)   \n",
      "62419   209159           Window of the Soul (2001)   \n",
      "62420   209163                    Bad Poems (2018)   \n",
      "62421   209169                 A Girl Thing (2001)   \n",
      "62422   209171      Women of Devil's Island (1962)   \n",
      "\n",
      "                                            genres  \\\n",
      "0      Adventure|Animation|Children|Comedy|Fantasy   \n",
      "1                       Adventure|Children|Fantasy   \n",
      "2                                   Comedy|Romance   \n",
      "3                             Comedy|Drama|Romance   \n",
      "4                                           Comedy   \n",
      "...                                            ...   \n",
      "62418                                        Drama   \n",
      "62419                                  Documentary   \n",
      "62420                                 Comedy|Drama   \n",
      "62421                           (no genres listed)   \n",
      "62422                       Action|Adventure|Drama   \n",
      "\n",
      "                            clean_title  \n",
      "0                        Toy Story 1995  \n",
      "1                          Jumanji 1995  \n",
      "2                 Grumpier Old Men 1995  \n",
      "3                Waiting to Exhale 1995  \n",
      "4      Father of the Bride Part II 1995  \n",
      "...                                 ...  \n",
      "62418                           We 2018  \n",
      "62419           Window of the Soul 2001  \n",
      "62420                    Bad Poems 2018  \n",
      "62421                 A Girl Thing 2001  \n",
      "62422       Women of Devils Island 1962  \n",
      "\n",
      "[62423 rows x 4 columns]\n"
     ]
    },
    {
     "data": {
      "application/vnd.jupyter.widget-view+json": {
       "model_id": "ea189f9f79964b07a360d0b83f2d0249",
       "version_major": 2,
       "version_minor": 0
      },
      "text/plain": [
       "Text(value='Toy Story', description='Movie Title:')"
      ]
     },
     "metadata": {},
     "output_type": "display_data"
    },
    {
     "data": {
      "application/vnd.jupyter.widget-view+json": {
       "model_id": "e022359a81434bc8af63ba0eeac8f239",
       "version_major": 2,
       "version_minor": 0
      },
      "text/plain": [
       "Output()"
      ]
     },
     "metadata": {},
     "output_type": "display_data"
    }
   ],
   "source": [
    "import pandas as pd\n",
    "\n",
    "movies = pd.read_csv(\"ml-25m/movies.csv\")\n",
    "print(movies)\n",
    "\n",
    "import re \n",
    "def clean_title(title):  #need to clean results to get rid of any extra characters such as parenthesis etc \n",
    "\n",
    "    return re.sub(\"[^a-zA-Z0-9 ]\", \"\", title) # removes everything that isnt a lowercase/upper case or number/space\n",
    "\n",
    "\n",
    "movies[\"clean_title\"] = movies[\"title\"].apply(clean_title)\n",
    "print(movies)\n",
    "\n",
    "\n",
    "from sklearn.feature_extraction.text import TfidfVectorizer \n",
    "\n",
    "vectorizer = TfidfVectorizer(ngram_range=(1, 2)) # instead of individually searching for a word, searches for pairs.\n",
    "\n",
    "tfidf = vectorizer.fit_transform(movies[\"clean_title\"])\n",
    "\n",
    "#to compute the similarity between two titles  \n",
    "\n",
    "from sklearn.metrics.pairwise import cosine_similarity\n",
    "import numpy as np\n",
    "\n",
    "def search(title):\n",
    "    \n",
    "    title = clean_title(title)\n",
    "    query_vec = vectorizer.transform([title])\n",
    "    #find similarity with all titles in data and search term\n",
    "    similarity = cosine_similarity(query_vec, tfidf).flatten()\n",
    "\n",
    "    #titles that have the greatest similarity to our search term \n",
    "    indices  = np.argpartition(similarity, -5)[-5:]\n",
    "\n",
    "    results = movies.iloc[indices][::-1]\n",
    "    return results\n",
    "\n",
    "import ipywidgets as widgets\n",
    "from IPython.display import display\n",
    "\n",
    "movie_input = widgets.Text(\n",
    "    value= \"Toy Story\",\n",
    "    description = \"Movie Title:\",\n",
    "    disabled = False\n",
    ")\n",
    "movie_list = widgets.Output()\n",
    "\n",
    "def on_type(data):\n",
    "    with movie_list:\n",
    "        movie_list.clear_output()\n",
    "        title = data[\"new\"]\n",
    "        if len(title) > 5:\n",
    "            display(search(title))\n",
    "\n",
    "movie_input.observe(on_type, names= 'value')\n",
    "\n",
    "display(movie_input, movie_list)\n",
    "\n",
    "    \n",
    "\n"
   ]
  },
  {
   "cell_type": "code",
   "execution_count": 2,
   "metadata": {},
   "outputs": [
    {
     "data": {
      "text/plain": [
       "5101           1\n",
       "5105          34\n",
       "5111         110\n",
       "5114         150\n",
       "5127         260\n",
       "            ... \n",
       "24998388    3706\n",
       "24998389    3735\n",
       "24998391    3763\n",
       "24998392    4187\n",
       "24998393    4321\n",
       "Name: movieId, Length: 912084, dtype: int64"
      ]
     },
     "execution_count": 2,
     "metadata": {},
     "output_type": "execute_result"
    }
   ],
   "source": [
    "\n",
    "#finding users who liked the same movie\n",
    "\n",
    "ratings = pd.read_csv(\"ml-25m/ratings.csv\")\n",
    "\n",
    "ratings.dtypes\n",
    "\n",
    "movie_id = 1\n",
    "similar_users = ratings[(ratings[\"movieId\"] == movie_id) & (ratings[\"rating\"] >= 5 )][\"userId\"].unique()\n",
    "\n",
    "\n",
    "#finds users that liked the same movie as search input\n",
    "similar_users_recs = ratings[(ratings[\"userId\"].isin(similar_users)) & (ratings[\"rating\"] > 4)][\"movieId\"]\n",
    "similar_users_recs"
   ]
  },
  {
   "cell_type": "code",
   "execution_count": 3,
   "metadata": {},
   "outputs": [
    {
     "data": {
      "text/plain": [
       "1       1.000000\n",
       "318     0.414556\n",
       "260     0.404561\n",
       "356     0.347253\n",
       "296     0.342663\n",
       "          ...   \n",
       "1259    0.102991\n",
       "7361    0.101881\n",
       "1206    0.101362\n",
       "1307    0.101066\n",
       "1208    0.100918\n",
       "Name: movieId, Length: 92, dtype: float64"
      ]
     },
     "execution_count": 3,
     "metadata": {},
     "output_type": "execute_result"
    }
   ],
   "source": [
    "similar_users_recs= similar_users_recs.value_counts() / len(similar_users)\n",
    "\n",
    "similar_users_recs= similar_users_recs[similar_users_recs > .1]\n",
    "\n",
    "similar_users_recs"
   ]
  },
  {
   "cell_type": "code",
   "execution_count": 4,
   "metadata": {},
   "outputs": [
    {
     "data": {
      "text/plain": [
       "318      0.345282\n",
       "296      0.287220\n",
       "2571     0.246217\n",
       "356      0.237370\n",
       "593      0.227930\n",
       "           ...   \n",
       "1387     0.047886\n",
       "1307     0.046195\n",
       "745      0.037362\n",
       "78499    0.035445\n",
       "2355     0.025316\n",
       "Name: movieId, Length: 92, dtype: float64"
      ]
     },
     "execution_count": 4,
     "metadata": {},
     "output_type": "execute_result"
    }
   ],
   "source": [
    "#how much do all users in our dataset like these movies.\n",
    "\n",
    "all_users = ratings[(ratings[\"movieId\"].isin(similar_users_recs.index)) & (ratings[\"rating\"] >4)]\n",
    "all_users_recs = all_users[\"movieId\"].value_counts() / len(all_users[\"userId\"].unique())\n",
    "\n",
    "all_users_recs\n"
   ]
  },
  {
   "cell_type": "code",
   "execution_count": 5,
   "metadata": {},
   "outputs": [
    {
     "data": {
      "text/html": [
       "<div>\n",
       "<style scoped>\n",
       "    .dataframe tbody tr th:only-of-type {\n",
       "        vertical-align: middle;\n",
       "    }\n",
       "\n",
       "    .dataframe tbody tr th {\n",
       "        vertical-align: top;\n",
       "    }\n",
       "\n",
       "    .dataframe thead th {\n",
       "        text-align: right;\n",
       "    }\n",
       "</style>\n",
       "<table border=\"1\" class=\"dataframe\">\n",
       "  <thead>\n",
       "    <tr style=\"text-align: right;\">\n",
       "      <th></th>\n",
       "      <th>similar</th>\n",
       "      <th>all</th>\n",
       "    </tr>\n",
       "  </thead>\n",
       "  <tbody>\n",
       "    <tr>\n",
       "      <th>1</th>\n",
       "      <td>1.000000</td>\n",
       "      <td>0.125844</td>\n",
       "    </tr>\n",
       "    <tr>\n",
       "      <th>318</th>\n",
       "      <td>0.414556</td>\n",
       "      <td>0.345282</td>\n",
       "    </tr>\n",
       "    <tr>\n",
       "      <th>260</th>\n",
       "      <td>0.404561</td>\n",
       "      <td>0.224195</td>\n",
       "    </tr>\n",
       "    <tr>\n",
       "      <th>356</th>\n",
       "      <td>0.347253</td>\n",
       "      <td>0.237370</td>\n",
       "    </tr>\n",
       "    <tr>\n",
       "      <th>296</th>\n",
       "      <td>0.342663</td>\n",
       "      <td>0.287220</td>\n",
       "    </tr>\n",
       "    <tr>\n",
       "      <th>...</th>\n",
       "      <td>...</td>\n",
       "      <td>...</td>\n",
       "    </tr>\n",
       "    <tr>\n",
       "      <th>1259</th>\n",
       "      <td>0.102991</td>\n",
       "      <td>0.049349</td>\n",
       "    </tr>\n",
       "    <tr>\n",
       "      <th>7361</th>\n",
       "      <td>0.101881</td>\n",
       "      <td>0.105172</td>\n",
       "    </tr>\n",
       "    <tr>\n",
       "      <th>1206</th>\n",
       "      <td>0.101362</td>\n",
       "      <td>0.087500</td>\n",
       "    </tr>\n",
       "    <tr>\n",
       "      <th>1307</th>\n",
       "      <td>0.101066</td>\n",
       "      <td>0.046195</td>\n",
       "    </tr>\n",
       "    <tr>\n",
       "      <th>1208</th>\n",
       "      <td>0.100918</td>\n",
       "      <td>0.083250</td>\n",
       "    </tr>\n",
       "  </tbody>\n",
       "</table>\n",
       "<p>92 rows × 2 columns</p>\n",
       "</div>"
      ],
      "text/plain": [
       "       similar       all\n",
       "1     1.000000  0.125844\n",
       "318   0.414556  0.345282\n",
       "260   0.404561  0.224195\n",
       "356   0.347253  0.237370\n",
       "296   0.342663  0.287220\n",
       "...        ...       ...\n",
       "1259  0.102991  0.049349\n",
       "7361  0.101881  0.105172\n",
       "1206  0.101362  0.087500\n",
       "1307  0.101066  0.046195\n",
       "1208  0.100918  0.083250\n",
       "\n",
       "[92 rows x 2 columns]"
      ]
     },
     "execution_count": 5,
     "metadata": {},
     "output_type": "execute_result"
    }
   ],
   "source": [
    "rec_percentages = pd.concat([similar_users_recs, all_users_recs], axis=1)\n",
    "rec_percentages.columns = [\"similar\", \"all\"]\n",
    "\n",
    "rec_percentages"
   ]
  }
 ],
 "metadata": {
  "kernelspec": {
   "display_name": "Python 3",
   "language": "python",
   "name": "python3"
  },
  "language_info": {
   "codemirror_mode": {
    "name": "ipython",
    "version": 3
   },
   "file_extension": ".py",
   "mimetype": "text/x-python",
   "name": "python",
   "nbconvert_exporter": "python",
   "pygments_lexer": "ipython3",
   "version": "3.11.0"
  },
  "orig_nbformat": 4
 },
 "nbformat": 4,
 "nbformat_minor": 2
}
